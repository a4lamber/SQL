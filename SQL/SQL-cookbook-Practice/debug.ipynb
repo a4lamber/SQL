{
 "cells": [
  {
   "cell_type": "code",
   "execution_count": 26,
   "metadata": {},
   "outputs": [],
   "source": [
    "# /**\n",
    "#  * @ Author: Yixiang Zhang\n",
    "#  * @ Create Time: 2022-08-23 11:31:20\n",
    "#  * @ Modified by: Yixiang\n",
    "#  * @ Modified time: 2022-08-23 11:31:35\n",
    "#  * @ Description: debug for short-stack post processing\n",
    "#  */\n",
    "import re\n",
    "\n",
    "test_column = [\"noise\",\n",
    "               \"Cell_0(mV)\",\n",
    "               \"Cell_1(mV)\",\n",
    "               \"Cell_2(mV)\",\n",
    "               \"Cell_13(mV)\",\n",
    "               'cell',\n",
    "               'goblin']\n"
   ]
  },
  {
   "cell_type": "code",
   "execution_count": 27,
   "metadata": {},
   "outputs": [
    {
     "name": "stdout",
     "output_type": "stream",
     "text": [
      "['Cell_0(mV)', 'Cell_1(mV)', 'Cell_2(mV)', 'Cell_13(mV)']\n",
      "bug\n",
      "---\n",
      "(mV)\n",
      "(mV)\n",
      "(mV)\n",
      "(mV)\n",
      "solution\n",
      "---\n",
      "0\n",
      "1\n",
      "2\n",
      "13\n"
     ]
    }
   ],
   "source": [
    "def unit_test(input):\n",
    "    # filtering input based on substring to extract cell voltages\n",
    "    filtered_data = [word for word in input if word.startswith(\"Cell\")]\n",
    "    print(filtered_data)\n",
    "    \n",
    "    # iterate 实际上是export了16节csv和图片，但是都overwrite覆盖了previous one\n",
    "    print(\"bug\\n---\")\n",
    "    for cell in filtered_data:\n",
    "        print(cell[-4:])\n",
    "    \n",
    "    # proposed solution\n",
    "    print(\"solution\\n---\")\n",
    "\n",
    "    for cell in filtered_data:\n",
    "        # 提取string中的substring数字中的第一项\n",
    "        print(re.findall(r'\\d+',cell)[0])\n",
    "        \n",
    "unit_test(input = test_column) "
   ]
  },
  {
   "cell_type": "markdown",
   "metadata": {},
   "source": [
    "## Problem\n",
    "- 由于长短堆每节电压的命名不一致，当时开发时候只考虑了长堆的提取，所以提出的solution不够general.\n",
    "- 短期措施是先这么改,之后看看有没有需要一起改一下吧.\n",
    "## Solution\n",
    "- 添加一行 `import re`在源文件\n",
    "- replace 下列代码\n",
    "```python\n",
    "# 长堆\n",
    "single_cell_columns = [word for word in list(dataframe.columns) if word.startswith(\"V\")]\n",
    "# 短堆 短期solution\n",
    "single_cell_columns = [word for word in list(dataframe.columns) if word.startswith(\"Cell\")]\n",
    "```\n",
    "- replace all `cell[-4:]` in the fucntion `segment_cells_with_cd` with `re.findall(r'\\d+',cell)[0]`"
   ]
  }
 ],
 "metadata": {
  "kernelspec": {
   "display_name": "Python 3.9.7 ('py39')",
   "language": "python",
   "name": "python3"
  },
  "language_info": {
   "codemirror_mode": {
    "name": "ipython",
    "version": 3
   },
   "file_extension": ".py",
   "mimetype": "text/x-python",
   "name": "python",
   "nbconvert_exporter": "python",
   "pygments_lexer": "ipython3",
   "version": "3.9.7"
  },
  "orig_nbformat": 4,
  "vscode": {
   "interpreter": {
    "hash": "ae1fefc8646a06dd2e75004cd934adda7c5727b046986a772e3b44b0ffba9754"
   }
  }
 },
 "nbformat": 4,
 "nbformat_minor": 2
}
